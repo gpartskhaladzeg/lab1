{
 "cells": [
  {
   "cell_type": "markdown",
   "metadata": {},
   "source": [
    "# Numpy"
   ]
  },
  {
   "cell_type": "markdown",
   "metadata": {},
   "source": [
    "Материалы:\n",
    "* Макрушин С.В. \"Лекция 1: Библиотека Numpy\"\n",
    "* https://numpy.org/doc/stable/user/index.html\n",
    "* https://numpy.org/doc/stable/reference/index.html"
   ]
  },
  {
   "cell_type": "markdown",
   "metadata": {},
   "source": [
    "## Задачи для совместного разбора"
   ]
  },
  {
   "cell_type": "markdown",
   "metadata": {},
   "source": [
    "1. Сгенерировать двухмерный массив `arr` размерности (4, 7), состоящий из случайных действительных чисел, равномерно распределенных в диапазоне от 0 до 20. Нормализовать значения массива с помощью преобразования вида  $𝑎𝑥+𝑏$  так, что после нормализации максимальный элемент масcива будет равен 1.0, минимальный 0.0"
   ]
  },
  {
   "cell_type": "code",
   "execution_count": 4,
   "metadata": {},
   "outputs": [],
   "source": [
    "import numpy as np"
   ]
  },
  {
   "cell_type": "code",
   "execution_count": 6,
   "metadata": {},
   "outputs": [
    {
     "data": {
      "text/plain": [
       "array([[ 4, 10, 12, 18,  3,  0, 12],\n",
       "       [ 0,  8,  6,  4,  2,  1, 11],\n",
       "       [ 8, 17,  1, 10, 17,  6,  8],\n",
       "       [ 7,  1,  9, 11,  6, 16, 11]])"
      ]
     },
     "execution_count": 6,
     "metadata": {},
     "output_type": "execute_result"
    }
   ],
   "source": [
    "np.random.randint(0, 20, size = (4, 7))"
   ]
  },
  {
   "cell_type": "markdown",
   "metadata": {},
   "source": [
    "2. Создать матрицу 8 на 10 из случайных целых (используя модуль `numpy.random`) чисел из диапозона от 0 до 10 и найти в ней строку (ее индекс и вывести саму строку), в которой сумма значений минимальна."
   ]
  },
  {
   "cell_type": "code",
   "execution_count": 7,
   "metadata": {},
   "outputs": [
    {
     "data": {
      "text/plain": [
       "array([[3, 7, 9, 1, 9, 6, 9, 3, 2, 9],\n",
       "       [7, 8, 9, 7, 8, 3, 1, 5, 3, 9],\n",
       "       [1, 4, 2, 3, 9, 4, 1, 5, 4, 1],\n",
       "       [1, 4, 7, 9, 4, 7, 6, 8, 7, 8],\n",
       "       [0, 9, 4, 7, 8, 4, 5, 2, 4, 6],\n",
       "       [6, 1, 2, 9, 6, 8, 1, 9, 0, 2],\n",
       "       [5, 2, 4, 5, 9, 2, 1, 7, 5, 1],\n",
       "       [9, 2, 8, 5, 1, 4, 7, 9, 6, 2]])"
      ]
     },
     "execution_count": 7,
     "metadata": {},
     "output_type": "execute_result"
    }
   ],
   "source": [
    "np.random.randint(0, 10, size = (8, 10))"
   ]
  },
  {
   "cell_type": "markdown",
   "metadata": {},
   "source": [
    "3. Найти евклидово расстояние между двумя одномерными векторами одинаковой размерности."
   ]
  },
  {
   "cell_type": "code",
   "execution_count": 10,
   "metadata": {},
   "outputs": [],
   "source": [
    "import matplotlib.pyplot as pl\n",
    "from mpl_toolkits.mplot3d import Axes3D"
   ]
  },
  {
   "cell_type": "code",
   "execution_count": null,
   "metadata": {},
   "outputs": [],
   "source": []
  },
  {
   "cell_type": "markdown",
   "metadata": {},
   "source": [
    "4. Решить матричное уравнение `A*X*B=-C` - найти матрицу `X`. Где `A = [[-1, 2, 4], [-3, 1, 2], [-3, 0, 1]]`, `B=[[3, -1], [2, 1]]`, `C=[[7, 21], [11, 8], [8, 4]]`."
   ]
  },
  {
   "cell_type": "markdown",
   "metadata": {},
   "source": [
    "## Лабораторная работа №1"
   ]
  },
  {
   "cell_type": "markdown",
   "metadata": {},
   "source": [
    "Замечание: при решении данных задач не подразумевается использования циклов или генераторов Python, если в задании не сказано обратного. Решение должно опираться на использования функционала библиотеки `numpy`."
   ]
  },
  {
   "cell_type": "markdown",
   "metadata": {},
   "source": [
    "1. Файл `minutes_n_ingredients.csv` содержит информацию об идентификаторе рецепта, времени его выполнения в минутах и количестве необходимых ингредиентов. Считайте данные из этого файла в виде массива `numpy` типа `int32`, используя `np.loadtxt`. Выведите на экран первые 5 строк массива."
   ]
  },
  {
   "cell_type": "code",
   "execution_count": 1,
   "metadata": {},
   "outputs": [
    {
     "name": "stdout",
     "output_type": "stream",
     "text": [
      "[[127244     60     16]\n",
      " [ 23891     25      7]\n",
      " [ 94746     10      6]\n",
      " [ 67660      5      6]\n",
      " [157911     60     14]]\n"
     ]
    }
   ],
   "source": [
    "import numpy as np\n",
    "\n",
    "data = np.loadtxt('data/minutes_n_ingredients.csv', dtype=np.int32, delimiter=',', skiprows=1)\n",
    "print(data[:5])"
   ]
  },
  {
   "cell_type": "markdown",
   "metadata": {},
   "source": [
    "2. Вычислите среднее значение, минимум, максимум и медиану по каждому из столбцов, кроме первого."
   ]
  },
  {
   "cell_type": "code",
   "execution_count": 2,
   "metadata": {},
   "outputs": [
    {
     "name": "stdout",
     "output_type": "stream",
     "text": [
      "Средние значения по столбцам: [2.16010017e+04 9.05528000e+00]\n",
      "Минимальные значения по столбцам: [0 1]\n",
      "Максимальные значения по столбцам: [2147483647         39]\n",
      "Медианные значения по столбцам: [40.  9.]\n"
     ]
    }
   ],
   "source": [
    "# Среднее значение\n",
    "mean_values = np.mean(data[:, 1:], axis=0)\n",
    "print(\"Средние значения по столбцам:\", mean_values)\n",
    "\n",
    "# Минимум\n",
    "min_values = np.min(data[:, 1:], axis=0)\n",
    "print(\"Минимальные значения по столбцам:\", min_values)\n",
    "\n",
    "# Максимум\n",
    "max_values = np.max(data[:, 1:], axis=0)\n",
    "print(\"Максимальные значения по столбцам:\", max_values)\n",
    "\n",
    "# Медиана\n",
    "median_values = np.median(data[:, 1:], axis=0)\n",
    "print(\"Медианные значения по столбцам:\", median_values)"
   ]
  },
  {
   "cell_type": "markdown",
   "metadata": {},
   "source": [
    "3. Ограничьте сверху значения продолжительности выполнения рецепта значением квантиля $q_{0.75}$. "
   ]
  },
  {
   "cell_type": "code",
   "execution_count": 3,
   "metadata": {},
   "outputs": [
    {
     "name": "stdout",
     "output_type": "stream",
     "text": [
      "Первые 5 строк массива после ограничения:\n",
      "[[127244     60     16]\n",
      " [ 23891     25      7]\n",
      " [ 94746     10      6]\n",
      " [ 67660      5      6]\n",
      " [157911     60     14]]\n"
     ]
    }
   ],
   "source": [
    "# Вычисляем квантиль 0.75\n",
    "q75 = np.quantile(data[:, 1], 0.75)\n",
    "\n",
    "# Ограничиваем значения сверху\n",
    "data[:, 1] = np.clip(data[:, 1], a_min=None, a_max=q75)\n",
    "\n",
    "print(\"Первые 5 строк массива после ограничения:\")\n",
    "print(data[:5])"
   ]
  },
  {
   "cell_type": "markdown",
   "metadata": {},
   "source": [
    "4. Посчитайте, для скольких рецептов указана продолжительность, равная нулю. Замените для таких строк значение в данном столбце на 1."
   ]
  },
  {
   "cell_type": "code",
   "execution_count": 4,
   "metadata": {},
   "outputs": [
    {
     "name": "stdout",
     "output_type": "stream",
     "text": [
      "Количество рецептов с продолжительностью выполнения равной нулю: 479\n",
      "Первые 5 строк массива после замены:\n",
      "[[127244     60     16]\n",
      " [ 23891     25      7]\n",
      " [ 94746     10      6]\n",
      " [ 67660      5      6]\n",
      " [157911     60     14]]\n"
     ]
    }
   ],
   "source": [
    "# Подсчитываем количество рецептов с продолжительностью выполнения равной нулю\n",
    "num_zeros = np.count_nonzero(data[:, 1] == 0)\n",
    "\n",
    "# Заменяем значения времени выполнения рецепта на 1 для рецептов с продолжительностью равной нулю\n",
    "data[data[:, 1] == 0, 1] = 1\n",
    "\n",
    "print(\"Количество рецептов с продолжительностью выполнения равной нулю:\", num_zeros)\n",
    "print(\"Первые 5 строк массива после замены:\")\n",
    "print(data[:5])"
   ]
  },
  {
   "cell_type": "markdown",
   "metadata": {},
   "source": [
    "5. Посчитайте, сколько уникальных рецептов находится в датасете."
   ]
  },
  {
   "cell_type": "code",
   "execution_count": 5,
   "metadata": {},
   "outputs": [
    {
     "name": "stdout",
     "output_type": "stream",
     "text": [
      "Количество уникальных рецептов: 100000\n"
     ]
    }
   ],
   "source": [
    "# Подсчитываем количество уникальных рецептов\n",
    "num_recipes = len(np.unique(data[:, 0]))\n",
    "\n",
    "print(\"Количество уникальных рецептов:\", num_recipes)"
   ]
  },
  {
   "cell_type": "markdown",
   "metadata": {},
   "source": [
    "6. Сколько и каких различных значений кол-ва ингредиентов присутвует в рецептах из датасета?"
   ]
  },
  {
   "cell_type": "code",
   "execution_count": 6,
   "metadata": {},
   "outputs": [
    {
     "name": "stdout",
     "output_type": "stream",
     "text": [
      "Количество уникальных значений количества ингредиентов: 37\n",
      "Уникальные значения количества ингредиентов: [ 1  2  3  4  5  6  7  8  9 10 11 12 13 14 15 16 17 18 19 20 21 22 23 24\n",
      " 25 26 27 28 29 30 31 32 33 34 35 37 39]\n"
     ]
    }
   ],
   "source": [
    "# Находим уникальные значения количества ингредиентов\n",
    "unique_ingredient_counts = np.unique(data[:, 2])\n",
    "\n",
    "# Подсчитываем количество уникальных значений\n",
    "num_unique_ingredient_counts = len(unique_ingredient_counts)\n",
    "\n",
    "print(\"Количество уникальных значений количества ингредиентов:\", num_unique_ingredient_counts)\n",
    "print(\"Уникальные значения количества ингредиентов:\", unique_ingredient_counts)"
   ]
  },
  {
   "cell_type": "markdown",
   "metadata": {},
   "source": [
    "7. Создайте версию массива, содержащую информацию только о рецептах, состоящих не более чем из 5 ингредиентов."
   ]
  },
  {
   "cell_type": "code",
   "execution_count": 7,
   "metadata": {},
   "outputs": [
    {
     "name": "stdout",
     "output_type": "stream",
     "text": [
      "Первые 5 строк отфильтрованного массива:\n",
      "[[446597     15      5]\n",
      " [204134      5      3]\n",
      " [ 25623      6      4]\n",
      " [484223     18      4]\n",
      " [ 63150     65      4]]\n"
     ]
    }
   ],
   "source": [
    "# Выбираем только те строки, где количество ингредиентов не превышает 5\n",
    "filtered_data = data[data[:, 2] <= 5]\n",
    "\n",
    "print(\"Первые 5 строк отфильтрованного массива:\")\n",
    "print(filtered_data[:5])"
   ]
  },
  {
   "cell_type": "markdown",
   "metadata": {},
   "source": [
    "8. Для каждого рецепта посчитайте, сколько в среднем ингредиентов приходится на одну минуту рецепта. Найдите максимальное значение этой величины для всего датасета"
   ]
  },
  {
   "cell_type": "code",
   "execution_count": 8,
   "metadata": {},
   "outputs": [
    {
     "name": "stdout",
     "output_type": "stream",
     "text": [
      "Максимальное значение количества ингредиентов на одну минуту в рецептах: 24.0\n"
     ]
    }
   ],
   "source": [
    "# Создаем массив, содержащий отношение количества ингредиентов к продолжительности выполнения рецепта\n",
    "ingredient_ratio = data[:, 2] / data[:, 1]\n",
    "\n",
    "# Находим максимальное значение этого массива\n",
    "max_ingredient_ratio = np.max(ingredient_ratio)\n",
    "\n",
    "print(\"Максимальное значение количества ингредиентов на одну минуту в рецептах:\", max_ingredient_ratio)"
   ]
  },
  {
   "cell_type": "markdown",
   "metadata": {},
   "source": [
    "9. Вычислите среднее количество ингредиентов для топ-100 рецептов с наибольшей продолжительностью"
   ]
  },
  {
   "cell_type": "code",
   "execution_count": 9,
   "metadata": {},
   "outputs": [
    {
     "name": "stdout",
     "output_type": "stream",
     "text": [
      "Среднее количество ингредиентов для топ-100 рецептов с наибольшей продолжительностью: 9.96\n"
     ]
    }
   ],
   "source": [
    "# Получаем индексы строк в порядке убывания значений времени выполнения рецепта\n",
    "sorted_indices = np.argsort(data[:, 1])[::-1]\n",
    "\n",
    "# Выбираем только топ-100 индексов\n",
    "top_indices = sorted_indices[:100]\n",
    "\n",
    "# Выбираем только топ-100 рецептов\n",
    "top_recipes = data[top_indices]\n",
    "\n",
    "# Вычисляем среднее количество ингредиентов в топ-100 рецептах\n",
    "mean_ingredients = np.mean(top_recipes[:, 2])\n",
    "\n",
    "print(\"Среднее количество ингредиентов для топ-100 рецептов с наибольшей продолжительностью:\", mean_ingredients)"
   ]
  },
  {
   "cell_type": "markdown",
   "metadata": {},
   "source": [
    "10. Выберите случайным образом и выведите информацию о 10 различных рецептах"
   ]
  },
  {
   "cell_type": "code",
   "execution_count": 10,
   "metadata": {},
   "outputs": [
    {
     "name": "stdout",
     "output_type": "stream",
     "text": [
      "Рецепт 382707: 55 минут, 3 ингредиентов\n",
      "Рецепт 50435: 27 минут, 10 ингредиентов\n",
      "Рецепт 259463: 10 минут, 8 ингредиентов\n",
      "Рецепт 313308: 50 минут, 12 ингредиентов\n",
      "Рецепт 454296: 45 минут, 11 ингредиентов\n",
      "Рецепт 474021: 65 минут, 12 ингредиентов\n",
      "Рецепт 142935: 40 минут, 12 ингредиентов\n",
      "Рецепт 74955: 60 минут, 12 ингредиентов\n",
      "Рецепт 89160: 30 минут, 6 ингредиентов\n",
      "Рецепт 205681: 20 минут, 6 ингредиентов\n"
     ]
    }
   ],
   "source": [
    "# Выбираем случайно 10 индексов строк из массива\n",
    "random_indices = np.random.choice(data.shape[0], 10, replace=False)\n",
    "\n",
    "# Выбираем только соответствующие строки и выводим информацию о них\n",
    "for index in random_indices:\n",
    "    recipe_id, recipe_time, recipe_ingredients = data[index]\n",
    "    print(f\"Рецепт {recipe_id}: {recipe_time} минут, {recipe_ingredients} ингредиентов\")"
   ]
  },
  {
   "cell_type": "markdown",
   "metadata": {},
   "source": [
    "11. Выведите процент рецептов, кол-во ингредиентов в которых меньше среднего."
   ]
  },
  {
   "cell_type": "code",
   "execution_count": 11,
   "metadata": {},
   "outputs": [
    {
     "name": "stdout",
     "output_type": "stream",
     "text": [
      "Процент рецептов, кол-во ингредиентов в которых меньше среднего: 58.802 %\n"
     ]
    }
   ],
   "source": [
    "# Вычисляем среднее значение количества ингредиентов в массиве\n",
    "mean_ingredients = np.mean(data[:, 2])\n",
    "\n",
    "# Вычисляем количество рецептов, кол-во ингредиентов в которых меньше среднего\n",
    "less_than_mean = np.count_nonzero(data[:, 2] < mean_ingredients)\n",
    "\n",
    "# Вычисляем процент таких рецептов от общего количества рецептов\n",
    "percent_less_than_mean = less_than_mean / data.shape[0] * 100\n",
    "\n",
    "print(\"Процент рецептов, кол-во ингредиентов в которых меньше среднего:\", percent_less_than_mean, \"%\")"
   ]
  },
  {
   "cell_type": "markdown",
   "metadata": {},
   "source": [
    "12. Назовем \"простым\" такой рецепт, длительность выполнения которого не больше 20 минут и кол-во ингредиентов в котором не больше 5. Создайте версию датасета с дополнительным столбцом, значениями которого являются 1, если рецепт простой, и 0 в противном случае."
   ]
  },
  {
   "cell_type": "code",
   "execution_count": 12,
   "metadata": {},
   "outputs": [
    {
     "name": "stdout",
     "output_type": "stream",
     "text": [
      "[[127244     60     16      0]\n",
      " [ 23891     25      7      0]\n",
      " [ 94746     10      6      0]\n",
      " [ 67660      5      6      0]\n",
      " [157911     60     14      0]]\n"
     ]
    }
   ],
   "source": [
    "# Создаем булевы массивы, отражающие условия \"длительность выполнения не больше 20 минут\"\n",
    "# и \"количество ингредиентов не больше 5\"\n",
    "short_time = data[:, 1] <= 20\n",
    "few_ingredients = data[:, 2] <= 5\n",
    "\n",
    "# Объединяем булевы массивы с помощью оператора логического \"И\"\n",
    "simple_recipe = short_time & few_ingredients\n",
    "\n",
    "# Создаем новый столбец с помощью функции np.where()\n",
    "data_with_simple_flag = np.insert(data, 3, np.where(simple_recipe, 1, 0), axis=1)\n",
    "\n",
    "# Выводим первые 5 строк нового массива\n",
    "print(data_with_simple_flag[:5])"
   ]
  },
  {
   "cell_type": "markdown",
   "metadata": {},
   "source": [
    "13. Выведите процент \"простых\" рецептов в датасете"
   ]
  },
  {
   "cell_type": "code",
   "execution_count": 13,
   "metadata": {},
   "outputs": [
    {
     "name": "stdout",
     "output_type": "stream",
     "text": [
      "Процент 'простых' рецептов в датасете: 9.552 %\n"
     ]
    }
   ],
   "source": [
    "# Создаем булевы массивы, отражающие условия \"длительность выполнения не больше 20 минут\"\n",
    "# и \"количество ингредиентов не больше 5\"\n",
    "short_time = data[:, 1] <= 20\n",
    "few_ingredients = data[:, 2] <= 5\n",
    "\n",
    "# Объединяем булевы массивы с помощью оператора логического \"И\"\n",
    "simple_recipe = short_time & few_ingredients\n",
    "\n",
    "# Создаем новый столбец с помощью функции np.where()\n",
    "data_with_simple_flag = np.insert(data, 3, np.where(simple_recipe, 1, 0), axis=1)\n",
    "\n",
    "# Вычисляем количество \"простых\" рецептов в массиве\n",
    "simple_recipe_count = np.count_nonzero(data_with_simple_flag[:, 3] == 1)\n",
    "\n",
    "# Вычисляем процент \"простых\" рецептов от общего количества рецептов\n",
    "percent_simple_recipe = simple_recipe_count / data.shape[0] * 100\n",
    "\n",
    "print(\"Процент 'простых' рецептов в датасете:\", percent_simple_recipe, \"%\")"
   ]
  },
  {
   "cell_type": "markdown",
   "metadata": {},
   "source": [
    "14. Разделим рецепты на группы по следующему правилу. Назовем рецепты короткими, если их продолжительность составляет менее 10 минут; стандартными, если их продолжительность составляет более 10, но менее 20 минут; и длинными, если их продолжительность составляет не менее 20 минут. Создайте трехмерный массив, где нулевая ось отвечает за номер группы (короткий, стандартный или длинный рецепт), первая ось - за сам рецепт и вторая ось - за характеристики рецепта. Выберите максимальное количество рецептов из каждой группы таким образом, чтобы было возможно сформировать трехмерный массив. Выведите форму полученного массива."
   ]
  },
  {
   "cell_type": "code",
   "execution_count": 16,
   "metadata": {},
   "outputs": [
    {
     "name": "stdout",
     "output_type": "stream",
     "text": [
      "(3, 79751, 3)\n"
     ]
    }
   ],
   "source": [
    "# Создаем булевые массивы для каждой группы рецептов\n",
    "short_time = data[:, 1] < 10\n",
    "standard_time = (data[:, 1] >= 10) & (data[:, 1] < 20)\n",
    "long_time = data[:, 1] >= 20\n",
    "\n",
    "# Выбираем максимальное количество рецептов из каждой группы\n",
    "max_short_time = np.count_nonzero(short_time)\n",
    "max_standard_time = np.count_nonzero(standard_time)\n",
    "max_long_time = np.count_nonzero(long_time)\n",
    "\n",
    "# Создаем трехмерный массив\n",
    "result_array = np.zeros((3, max_long_time, data.shape[1]), dtype=np.int32)\n",
    "\n",
    "# Добавляем рецепты в массив в соответствии с группами\n",
    "result_array[0, :max_short_time, :] = data[short_time]\n",
    "result_array[1, :max_standard_time, :] = data[standard_time]\n",
    "result_array[2, :max_long_time, :] = data[long_time]\n",
    "\n",
    "# Выводим форму полученного массива\n",
    "print(result_array.shape)"
   ]
  }
 ],
 "metadata": {
  "kernelspec": {
   "display_name": "Python 3.10.1 64-bit",
   "language": "python",
   "name": "python3"
  },
  "language_info": {
   "codemirror_mode": {
    "name": "ipython",
    "version": 3
   },
   "file_extension": ".py",
   "mimetype": "text/x-python",
   "name": "python",
   "nbconvert_exporter": "python",
   "pygments_lexer": "ipython3",
   "version": "3.10.1"
  },
  "vscode": {
   "interpreter": {
    "hash": "bbc3c3d932324566a9bf4b4a52ddf64063695fc3adbf25b3fda92572428493bb"
   }
  }
 },
 "nbformat": 4,
 "nbformat_minor": 4
}
